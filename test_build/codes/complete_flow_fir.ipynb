{
 "cells": [
  {
   "cell_type": "code",
   "execution_count": 1,
   "metadata": {
    "ExecuteTime": {
     "end_time": "2023-08-01T23:58:47.887276949Z",
     "start_time": "2023-08-01T23:58:47.801806452Z"
    },
    "collapsed": true
   },
   "outputs": [],
   "source": [
    "import sys\n",
    "sys.path.append('../../')\n",
    "\n",
    "from VectorCGRA.lib.common                  import *\n",
    "from pymtl3.stdlib.test.test_srcs           import TestSrcRTL\n",
    "from VectorCGRA.lib.ctrl_helper             import *\n",
    "from VectorCGRA.fu.flexible.FlexibleFuRTL   import FlexibleFuRTL\n",
    "from VectorCGRA.fu.single.AdderRTL          import AdderRTL\n",
    "from VectorCGRA.fu.single.MulRTL            import MulRTL\n",
    "from VectorCGRA.fu.single.PhiRTL            import PhiRTL\n",
    "from VectorCGRA.fu.single.CompRTL           import CompRTL\n",
    "from VectorCGRA.fu.single.BranchRTL         import BranchRTL\n",
    "from VectorCGRA.fu.single.MemUnitRTL        import MemUnitRTL\n",
    "from VectorCGRA.fu.single.SelRTL            import SelRTL\n",
    "from VectorCGRA.fu.single.ShifterRTL        import ShifterRTL\n",
    "from VectorCGRA.fu.single.LogicRTL          import LogicRTL\n",
    "from VectorCGRA.fu.single.RetRTL            import RetRTL\n",
    "from VectorCGRA.fu.double.SeqMulAdderRTL    import SeqMulAdderRTL\n",
    "from VectorCGRA.cgra.CGRATemplateRTL        import CGRATemplateRTL\n",
    "\n",
    "from pymtl3.passes import TracingConfigs\n",
    "from pymtl3.passes.backends.verilog import *\n",
    "from pymtl3.passes.backends.verilog import TranslationImportPass"
   ]
  },
  {
   "cell_type": "code",
   "execution_count": 2,
   "metadata": {
    "ExecuteTime": {
     "end_time": "2023-08-01T23:58:49.319555303Z",
     "start_time": "2023-08-01T23:58:48.382768761Z"
    },
    "collapsed": false
   },
   "outputs": [],
   "source": [
    "import os\n",
    "import json\n",
    "import matplotlib.pyplot as plt\n",
    "from PIL import Image\n",
    "import numpy as np"
   ]
  },
  {
   "cell_type": "markdown",
   "metadata": {
    "collapsed": false
   },
   "source": [
    " ## Compilation"
   ]
  },
  {
   "cell_type": "code",
   "execution_count": 3,
   "metadata": {},
   "outputs": [
    {
     "data": {
      "text/plain": [
       "'/home/rms/repos/RecoNTT-CGRA/test_build/codes'"
      ]
     },
     "execution_count": 3,
     "metadata": {},
     "output_type": "execute_result"
    }
   ],
   "source": [
    "os.getcwd()"
   ]
  },
  {
   "cell_type": "code",
   "execution_count": 4,
   "metadata": {
    "ExecuteTime": {
     "end_time": "2023-08-01T23:58:51.645248457Z",
     "start_time": "2023-08-01T23:58:51.222080224Z"
    },
    "collapsed": false
   },
   "outputs": [],
   "source": [
    "!rm -rf ../results/\n",
    "!mkdir -p ../results/"
   ]
  },
  {
   "cell_type": "code",
   "execution_count": 5,
   "metadata": {},
   "outputs": [],
   "source": [
    "os.chdir(\"/home/rms/repos/RecoNTT-CGRA/test_build/codes\")"
   ]
  },
  {
   "cell_type": "code",
   "execution_count": 6,
   "metadata": {},
   "outputs": [
    {
     "data": {
      "text/plain": [
       "'/home/rms/repos/RecoNTT-CGRA/test_build/codes'"
      ]
     },
     "execution_count": 6,
     "metadata": {},
     "output_type": "execute_result"
    }
   ],
   "source": [
    "os.getcwd()"
   ]
  },
  {
   "cell_type": "code",
   "execution_count": 7,
   "metadata": {
    "ExecuteTime": {
     "end_time": "2023-08-01T23:58:52.609427106Z",
     "start_time": "2023-08-01T23:58:52.154591232Z"
    },
    "collapsed": false
   },
   "outputs": [],
   "source": [
    "!clang-12 -emit-llvm -O3 -fno-unroll-loops -o ../results/kernel.bc -c ../kernels/fir/fir.cpp\n",
    "!llvm-dis-12 ../results/kernel.bc -o ../results/kernel.ll"
   ]
  },
  {
   "cell_type": "code",
   "execution_count": 8,
   "metadata": {
    "ExecuteTime": {
     "end_time": "2023-08-01T23:58:53.459306174Z",
     "start_time": "2023-08-01T23:58:53.451411547Z"
    },
    "collapsed": false
   },
   "outputs": [
    {
     "name": "stdout",
     "output_type": "stream",
     "text": [
      "['_Z6kernelPfS_S_']\n"
     ]
    }
   ],
   "source": [
    "irFile = open('../results/kernel.ll', 'r')\n",
    "irLines = irFile.readlines()\n",
    "targetKernels = []\n",
    "for line in irLines:\n",
    "    if \"define \" in line and \"{\" in line and \"@\" in line:\n",
    "        funcName = line.split(\"@\")[1].split(\"(\")[0]\n",
    "        if \"main\" not in funcName:\n",
    "            targetKernels.append(funcName)\n",
    "\n",
    "irFile.close()\n",
    "print(targetKernels)"
   ]
  },
  {
   "cell_type": "markdown",
   "metadata": {
    "collapsed": false
   },
   "source": [
    "## CGRA definition"
   ]
  },
  {
   "cell_type": "code",
   "execution_count": 9,
   "metadata": {
    "ExecuteTime": {
     "end_time": "2023-08-01T23:59:01.128486476Z",
     "start_time": "2023-08-01T23:59:01.116850740Z"
    },
    "collapsed": false
   },
   "outputs": [],
   "source": [
    "fuType2RTL = {}\n",
    "fuType2RTL[\"Phi\"  ] = PhiRTL\n",
    "fuType2RTL[\"Add\"  ] = AdderRTL\n",
    "fuType2RTL[\"Shift\"] = ShifterRTL\n",
    "fuType2RTL[\"Ld\"   ] = MemUnitRTL\n",
    "fuType2RTL[\"St\"   ] = MemUnitRTL\n",
    "fuType2RTL[\"Sel\"  ] = SelRTL\n",
    "fuType2RTL[\"Cmp\"  ] = CompRTL\n",
    "fuType2RTL[\"MAC\"  ] = SeqMulAdderRTL\n",
    "fuType2RTL[\"Ret\"  ] = RetRTL\n",
    "fuType2RTL[\"Mul\"  ] = MulRTL\n",
    "fuType2RTL[\"Logic\"] = LogicRTL\n",
    "fuType2RTL[\"Br\"   ] = BranchRTL"
   ]
  },
  {
   "cell_type": "code",
   "execution_count": 10,
   "metadata": {
    "ExecuteTime": {
     "end_time": "2023-08-02T00:19:53.407978539Z",
     "start_time": "2023-08-02T00:19:53.365034400Z"
    },
    "collapsed": false
   },
   "outputs": [],
   "source": [
    "width             = 2\n",
    "height            = 2\n",
    "num_tile_inports  = 8\n",
    "num_tile_outports = 8\n",
    "num_xbar_inports  = 8\n",
    "num_xbar_outports = 8\n",
    "ctrl_mem_size     = 8\n",
    "data_mem_size     = 8\n",
    "RouteType         = mk_bits( clog2( num_xbar_inports + 1 ) )\n",
    "AddrType          = mk_bits( clog2( ctrl_mem_size ) )\n",
    "num_tiles         = width * height\n",
    "num_fu_in         = 4\n",
    "FunctionUnit      = FlexibleFuRTL\n",
    "FuList           = [ PhiRTL, AdderRTL, ShifterRTL, MemUnitRTL, SelRTL, CompRTL, SeqMulAdderRTL, RetRTL, MulRTL, LogicRTL, BranchRTL ]\n",
    "DataType          = mk_data( 32, 1 )\n",
    "PredicateType     = mk_predicate( 1, 1 )\n",
    "CtrlType          = mk_ctrl( num_fu_in, num_xbar_inports, num_xbar_outports )\n",
    "FuInType          = mk_bits( clog2( num_fu_in + 1 ) )\n",
    "pickRegister      = [ FuInType( x+1 ) for x in range( num_fu_in ) ]\n",
    "\n",
    "DUT = CGRATemplateRTL"
   ]
  },
  {
   "cell_type": "code",
   "execution_count": 11,
   "metadata": {
    "ExecuteTime": {
     "end_time": "2023-08-02T00:19:53.693336890Z",
     "start_time": "2023-08-02T00:19:53.689078893Z"
    },
    "collapsed": false
   },
   "outputs": [],
   "source": [
    "targetKernel = '_Z6kernelPfS_S_'"
   ]
  },
  {
   "cell_type": "code",
   "execution_count": 12,
   "metadata": {
    "ExecuteTime": {
     "end_time": "2023-08-02T00:19:54.011736872Z",
     "start_time": "2023-08-02T00:19:54.003268900Z"
    },
    "collapsed": false
   },
   "outputs": [],
   "source": [
    "arch = {\n",
    "  \"kernel\"                : targetKernel,\n",
    "  \"targetFunction\"        : False,\n",
    "  \"targetNested\"          : False,\n",
    "  \"targetLoopsID\"         : [0],\n",
    "  \"doCGRAMapping\"         : True,\n",
    "  \"row\"                   : height,\n",
    "  \"column\"                : width,\n",
    "  \"precisionAware\"        : False,\n",
    "  \"heterogeneity\"         : False,\n",
    "  \"isTrimmedDemo\"         : True,\n",
    "  \"heuristicMapping\"      : True,\n",
    "  \"parameterizableCGRA\"   : False,\n",
    "  \"diagonalVectorization\" : False,\n",
    "  \"bypassConstraint\"      : 4,\n",
    "  \"isStaticElasticCGRA\"   : False,\n",
    "  \"ctrlMemConstraint\"     : ctrl_mem_size,\n",
    "  \"regConstraint\"         : 8\n",
    "}\n"
   ]
  },
  {
   "cell_type": "code",
   "execution_count": 13,
   "metadata": {},
   "outputs": [],
   "source": [
    "# Remember the original working directory\n",
    "orig_dir = os.getcwd()\n",
    "\n",
    "# Change to your desired directory\n",
    "os.chdir(\"../results/\")"
   ]
  },
  {
   "cell_type": "code",
   "execution_count": 14,
   "metadata": {},
   "outputs": [
    {
     "data": {
      "text/plain": [
       "'/home/rms/repos/RecoNTT-CGRA/test_build/results'"
      ]
     },
     "execution_count": 14,
     "metadata": {},
     "output_type": "execute_result"
    }
   ],
   "source": [
    "os.getcwd()"
   ]
  },
  {
   "cell_type": "code",
   "execution_count": 15,
   "metadata": {
    "ExecuteTime": {
     "end_time": "2023-08-02T00:19:54.548889524Z",
     "start_time": "2023-08-02T00:19:54.536652023Z"
    },
    "collapsed": false
   },
   "outputs": [],
   "source": [
    "paramCGRAJsonObject = json.dumps(arch, indent=4)\n",
    "# Writing to param.json\n",
    "with open('param.json', \"w\") as outfile:\n",
    "    outfile.write(paramCGRAJsonObject)\n"
   ]
  },
  {
   "cell_type": "markdown",
   "metadata": {
    "collapsed": false
   },
   "source": [
    "## Mapping"
   ]
  },
  {
   "cell_type": "code",
   "execution_count": 16,
   "metadata": {},
   "outputs": [
    {
     "data": {
      "text/plain": [
       "'/home/rms/repos/RecoNTT-CGRA/test_build/results'"
      ]
     },
     "execution_count": 16,
     "metadata": {},
     "output_type": "execute_result"
    }
   ],
   "source": [
    "os.getcwd()"
   ]
  },
  {
   "cell_type": "code",
   "execution_count": 17,
   "metadata": {
    "ExecuteTime": {
     "end_time": "2023-08-02T00:19:55.843231065Z",
     "start_time": "2023-08-02T00:19:55.612745984Z"
    },
    "collapsed": false
   },
   "outputs": [
    {
     "name": "stdout",
     "output_type": "stream",
     "text": [
      "WARNING: You're attempting to print out a bitcode file.\n",
      "This is inadvisable as it may cause display problems. If\n",
      "you REALLY want to taste LLVM bitcode first-hand, you\n",
      "can force output with the `-f' option.\n",
      "\n",
      "Initialize opt latency for DFG nodes: \n",
      "Initialize additional functionality on CGRA nodes: \n",
      "[function 'main' is not in our target list]\n",
      "Initialize opt latency for DFG nodes: \n",
      "Initialize additional functionality on CGRA nodes: \n",
      "==================================\n",
      "[function '_Z6kernelPfS_S_' is one of our targets]\n",
      "*** reach target loop ID: 0\n",
      "... done detected loops.size(): 1\n",
      "*** current function: _Z6kernelPfS_S_\n",
      "*** current basic block:   %4 = load float, float* %1, align 4, !tbaa !2\n",
      "   ****** succ bb:   %6 = phi float [ %4, %3 ], [ %13, %5 ]\n",
      "  %4 = load float, float* %1, align 4, !tbaa !2 *** ignored by pass due to that the BB is out of the scope (target loop)\n",
      "  br label %5 *** ignored by pass due to that the BB is out of the scope (target loop)\n",
      "*** current basic block:   %6 = phi float [ %4, %3 ], [ %13, %5 ]\n",
      "   ****** succ bb:   ret void\n",
      "   ****** succ bb:   %6 = phi float [ %4, %3 ], [ %13, %5 ]\n",
      "  %6 = phi float [ %4, %3 ], [ %13, %5 ] (ID: 0)\n",
      "  %7 = phi i64 [ 0, %3 ], [ %14, %5 ] (ID: 1)\n",
      "  %8 = getelementptr inbounds float, float* %0, i64 %7 (ID: 2)\n",
      "  %9 = load float, float* %8, align 4, !tbaa !2 (ID: 3)\n",
      "  %10 = getelementptr inbounds float, float* %2, i64 %7 (ID: 4)\n",
      "  %11 = load float, float* %10, align 4, !tbaa !2 (ID: 5)\n",
      "  %12 = fmul float %9, %11 (ID: 6)\n",
      "  %13 = fadd float %6, %12 (ID: 7)\n",
      "  store float %13, float* %1, align 4, !tbaa !2 (ID: 8)\n",
      "  %14 = add nuw nsw i64 %7, 1 (ID: 9)\n",
      "  %15 = icmp eq i64 %14, 32 (ID: 10)\n",
      "  br i1 %15, label %16, label %5, !llvm.loop !6 (ID: 11)\n",
      "ctrl to:   %6 = phi float [ %4, %3 ], [ %13, %5 ]; front:   %6 = phi float [ %4, %3 ], [ %13, %5 ];  check inst:   %6 = phi float [ %4, %3 ], [ %13, %5 ]\n",
      "!!!!!!! construct ctrl flow:   br i1 %15, label %16, label %5, !llvm.loop !6->  %6 = phi float [ %4, %3 ], [ %13, %5 ]\n",
      "ctrl to:   %7 = phi i64 [ 0, %3 ], [ %14, %5 ];  check inst:   %7 = phi i64 [ 0, %3 ], [ %14, %5 ]\n",
      "!!!!!!! construct ctrl flow:   br i1 %15, label %16, label %5, !llvm.loop !6->  %7 = phi i64 [ 0, %3 ], [ %14, %5 ]\n",
      "*** current basic block:   ret void\n",
      "  ret void *** ignored by pass due to that the BB is out of the scope (target loop)\n",
      "==================================\n",
      "[detected one cycle] head:   %6 = phi float [ %4, %3 ], [ %13, %5 ]\n",
      "cycle edge: {  %6 = phi float [ %4, %3 ], [ %13, %5 ]  } -> {  %13 = fadd float %6, %12  } (0 -> 7)\n",
      "cycle edge: {  %13 = fadd float %6, %12  } -> {  %6 = phi float [ %4, %3 ], [ %13, %5 ]  } (7 -> 0)\n",
      "==================================\n",
      "[detected one cycle] head:   %7 = phi i64 [ 0, %3 ], [ %14, %5 ]\n",
      "cycle edge: {  %7 = phi i64 [ 0, %3 ], [ %14, %5 ]  } -> {  %14 = add nuw nsw i64 %7, 1  } (1 -> 9)\n",
      "cycle edge: {  %14 = add nuw nsw i64 %7, 1  } -> {  %7 = phi i64 [ 0, %3 ], [ %14, %5 ]  } (9 -> 1)\n",
      "==================================\n",
      "[detected one cycle] head:   %7 = phi i64 [ 0, %3 ], [ %14, %5 ]\n",
      "cycle edge: {  %7 = phi i64 [ 0, %3 ], [ %14, %5 ]  } -> {  %14 = add nuw nsw i64 %7, 1  } (1 -> 9)\n",
      "cycle edge: {  %14 = add nuw nsw i64 %7, 1  } -> {  %15 = icmp eq i64 %14, 32  } (9 -> 10)\n",
      "cycle edge: {  %15 = icmp eq i64 %14, 32  } -> {  br i1 %15, label %16, label %5, !llvm.loop !6  } (10 -> 11)\n",
      "cycle edge: {  br i1 %15, label %16, label %5, !llvm.loop !6  } -> {  %7 = phi i64 [ 0, %3 ], [ %14, %5 ]  } (11 -> 1)\n",
      "[reorder DFG along with the longest path]\n",
      "(9)   %14 = add nuw nsw i64 %7, 1, level: 0\n",
      "(10)   %15 = icmp eq i64 %14, 32, level: 1\n",
      "(11)   br i1 %15, label %16, label %5, !llvm.loop !6, level: 2\n",
      "(1)   %7 = phi i64 [ 0, %3 ], [ %14, %5 ], level: 3\n",
      "(2)   %8 = getelementptr inbounds float, float* %0, i64 %7, level: 4\n",
      "(4)   %10 = getelementptr inbounds float, float* %2, i64 %7, level: 4\n",
      "(3)   %9 = load float, float* %8, align 4, !tbaa !2, level: 5\n",
      "(5)   %11 = load float, float* %10, align 4, !tbaa !2, level: 5\n",
      "(6)   %12 = fmul float %9, %11, level: 6\n",
      "(7)   %13 = fadd float %6, %12, level: 7\n",
      "(0)   %6 = phi float [ %4, %3 ], [ %13, %5 ], level: 8\n",
      "(8)   store float %13, float* %1, align 4, !tbaa !2, level: 8\n",
      "Without customization in param.json, we enable store functionality on the left most column.\n",
      "Without customization in param.json, we enable load functionality on the left most column.\n",
      "==================================\n",
      "[show opcode count]\n",
      "add : 2\n",
      "br : 1\n",
      "cmp : 1\n",
      "getelementptr : 2\n",
      "load : 2\n",
      "mul : 1\n",
      "phi : 2\n",
      "store : 1\n",
      "DFG node count: 12; DFG edge count: 16; SIMD node count: 0\n",
      "==================================\n",
      "[generate dot for DFG]\n",
      "==================================\n",
      "[generate JSON for DFG]\n",
      "==================================\n",
      "[ResMII: 3]\n",
      "... number of cycles: 3 ...\n",
      "==================================\n",
      "[RecMII: 4]\n",
      "==================================\n",
      "[heuristic]\n",
      "----------------------------------------\n",
      "[DEBUG] start heuristic algorithm with II=4\n",
      "[DEBUG] schedule dfg node[9] onto fu[1] at cycle 0 within II: 4\n",
      "[DEBUG] setDFGNode 9 onto CGRANode 1 at cycle: 0\n",
      "[DEBUG] success in schedule()\n",
      "[DEBUG] schedule dfg node[10] onto fu[3] at cycle 1 within II: 4\n",
      "[DEBUG] setDFGNode 10 onto CGRANode 3 at cycle: 1\n",
      "[DEBUG] in allocateReg() t_cycle: 0; i: 0 CGRA node: 3; link: 1 duration 1\n",
      "[DEBUG] done reg allocation\n",
      "[DEBUG] occupy link[1]-->[3] (bypass:0) dfgNode: 9 at cycle 0\n",
      "[DEBUG] skip predecessor routing -- dfgNode: 9\n",
      "[DEBUG] success in schedule()\n",
      "[DEBUG] schedule dfg node[11] onto fu[1] at cycle 2 within II: 4\n",
      "[DEBUG] setDFGNode 11 onto CGRANode 1 at cycle: 2\n",
      "[DEBUG] in allocateReg() t_cycle: 1; i: 0 CGRA node: 1; link: 0 duration 1\n",
      "[DEBUG] done reg allocation\n",
      "[DEBUG] occupy link[3]-->[1] (bypass:0) dfgNode: 10 at cycle 1\n",
      "[DEBUG] skip predecessor routing -- dfgNode: 10\n",
      "[DEBUG] success in schedule()\n",
      "[DEBUG] schedule dfg node[1] onto fu[3] at cycle 3 within II: 4\n",
      "[DEBUG] setDFGNode 1 onto CGRANode 3 at cycle: 3\n",
      "[DEBUG] in allocateReg() t_cycle: 2; i: 0 CGRA node: 3; link: 1 duration 1\n",
      "[DEBUG] done reg allocation\n",
      "[DEBUG] occupy link[1]-->[3] (bypass:0) dfgNode: 11 at cycle 2\n",
      "[DEBUG] tryToRoute -- srcDFGNode: 9, srcCGRANode: 1; dstDFGNode: 1, dstCGRANode: 3; backEdge: 0\n",
      "[DEBUG] in shareSameCycle is true: node 1\n",
      "[DEBUG] check route size: 2\n",
      "[DEBUG] reset duration: 3 t_dstCycle: 3 previous: 0 II: 4\n",
      "[DEBUG] in allocateReg() t_cycle: 0; i: 1 CGRA node: 3; link: 1 duration 3\n",
      "[DEBUG] done reg allocation\n",
      "[DEBUG] occupy link[1]-->[3] (bypass:0) dfgNode: 9 at cycle 0\n",
      "[DEBUG] skip predecessor routing -- dfgNode: 11\n",
      "[DEBUG] in shareSameCycle is true: node 1\n",
      "[DEBUG] tryToRoute -- srcDFGNode: 1, srcCGRANode: 3; dstDFGNode: 9, dstCGRANode: 1; backEdge: 1\n",
      "[DEBUG] in shareSameCycle is true: node 9\n",
      "[DEBUG] check route size: 2\n",
      "[DEBUG] reset duration: 1 t_dstCycle: 0 previous: 3 II: 4\n",
      "[DEBUG] in allocateReg() t_cycle: 3; i: 0 CGRA node: 1; link: 0 duration 1\n",
      "[DEBUG] done reg allocation\n",
      "[DEBUG] occupy link[3]-->[1] (bypass:0) dfgNode: 1 at cycle 3\n",
      "[DEBUG] success in schedule()\n",
      "[DEBUG] schedule dfg node[2] onto fu[2] at cycle 4 within II: 4\n",
      "[DEBUG] setDFGNode 2 onto CGRANode 2 at cycle: 4\n",
      "[DEBUG] in allocateReg() t_cycle: 3; i: 0 CGRA node: 2; link: 3 duration 1\n",
      "[DEBUG] done reg allocation\n",
      "[DEBUG] occupy link[3]-->[2] (bypass:0) dfgNode: 1 at cycle 3\n",
      "[DEBUG] skip predecessor routing -- dfgNode: 1\n",
      "[DEBUG] success in schedule()\n",
      "[DEBUG] schedule dfg node[4] onto fu[0] at cycle 5 within II: 4\n",
      "[DEBUG] setDFGNode 4 onto CGRANode 0 at cycle: 5\n",
      "[DEBUG] occupy link[3]-->[1] (bypass:1) dfgNode: 1 at cycle 3\n",
      "[DEBUG] in allocateReg() t_cycle: 4; i: 0 CGRA node: 0; link: 3 duration 1\n",
      "[DEBUG] done reg allocation\n",
      "[DEBUG] occupy link[1]-->[0] (bypass:0) dfgNode: 1 at cycle 4\n",
      "[DEBUG] skip predecessor routing -- dfgNode: 1\n",
      "[DEBUG] success in schedule()\n",
      "[DEBUG] no available path for DFG node 3 on CGRA node 1 within II 4; path size: 1.\n",
      "[DEBUG] no available path for DFG node 3 on CGRA node 3 within II 4; path size: 2.\n",
      "[DEBUG] schedule dfg node[3] onto fu[2] at cycle 5 within II: 4\n",
      "[DEBUG] setDFGNode 3 onto CGRANode 2 at cycle: 5\n",
      "[DEBUG] tryToRoute -- srcDFGNode: 2, srcCGRANode: 2; dstDFGNode: 3, dstCGRANode: 2; backEdge: 0\n",
      "[DEBUG] check route size: 1\n",
      "[DEBUG] allocate for local reg maintain... duration=1 last cycle: 4\n",
      "[DEBUG] in allocateReg() t_cycle: 4; i: 0 CGRA node: 2; link: 4 duration 1\n",
      "[DEBUG] done reg allocation\n",
      "[DEBUG] success in schedule()\n",
      "[DEBUG] no available path for DFG node 5 on CGRA node 1 within II 4; path size: 1.\n",
      "[DEBUG] no available path for DFG node 5 on CGRA node 3 within II 4; path size: 2.\n",
      "[DEBUG] schedule dfg node[5] onto fu[2] at cycle 6 within II: 4\n",
      "[DEBUG] setDFGNode 5 onto CGRANode 2 at cycle: 6\n",
      "[DEBUG] in allocateReg() t_cycle: 5; i: 0 CGRA node: 2; link: 1 duration 1\n",
      "[DEBUG] done reg allocation\n",
      "[DEBUG] occupy link[0]-->[2] (bypass:0) dfgNode: 4 at cycle 5\n",
      "[DEBUG] skip predecessor routing -- dfgNode: 4\n",
      "[DEBUG] success in schedule()\n",
      "[DEBUG] schedule dfg node[6] onto fu[0] at cycle 7 within II: 4\n",
      "[DEBUG] setDFGNode 6 onto CGRANode 0 at cycle: 7\n",
      "[DEBUG] in allocateReg() t_cycle: 6; i: 0 CGRA node: 0; link: 0 duration 1\n",
      "[DEBUG] done reg allocation\n",
      "[DEBUG] occupy link[2]-->[0] (bypass:0) dfgNode: 5 at cycle 6\n",
      "[DEBUG] tryToRoute -- srcDFGNode: 3, srcCGRANode: 2; dstDFGNode: 6, dstCGRANode: 0; backEdge: 0\n",
      "[DEBUG] check route size: 2\n",
      "[DEBUG] reset duration: 2 t_dstCycle: 7 previous: 5 II: 4\n",
      "[DEBUG] in allocateReg() t_cycle: 5; i: 1 CGRA node: 0; link: 0 duration 2\n",
      "[DEBUG] done reg allocation\n",
      "[DEBUG] occupy link[2]-->[0] (bypass:0) dfgNode: 3 at cycle 5\n",
      "[DEBUG] skip predecessor routing -- dfgNode: 5\n",
      "[DEBUG] success in schedule()\n",
      "[DEBUG] schedule dfg node[7] onto fu[1] at cycle 9 within II: 4\n",
      "[DEBUG] setDFGNode 7 onto CGRANode 1 at cycle: 9\n",
      "[DEBUG] in allocateReg() t_cycle: 7; i: 1 CGRA node: 1; link: 2 duration 2\n",
      "[DEBUG] done reg allocation\n",
      "[DEBUG] occupy link[0]-->[1] (bypass:0) dfgNode: 6 at cycle 7\n",
      "[DEBUG] skip predecessor routing -- dfgNode: 6\n",
      "[DEBUG] success in schedule()\n",
      "[DEBUG] schedule dfg node[0] onto fu[3] at cycle 10 within II: 4\n",
      "[DEBUG] setDFGNode 0 onto CGRANode 3 at cycle: 10\n",
      "[DEBUG] in allocateReg() t_cycle: 9; i: 0 CGRA node: 3; link: 1 duration 1\n",
      "[DEBUG] done reg allocation\n",
      "[DEBUG] occupy link[1]-->[3] (bypass:0) dfgNode: 7 at cycle 9\n",
      "[DEBUG] skip predecessor routing -- dfgNode: 7\n",
      "[DEBUG] tryToRoute -- srcDFGNode: 11, srcCGRANode: 1; dstDFGNode: 0, dstCGRANode: 3; backEdge: 0\n",
      "[DEBUG] check route size: 2\n",
      "[DEBUG] reset duration: 0 t_dstCycle: 10 previous: 2 II: 4\n",
      "[DEBUG] reset duration is 0...\n",
      "[DEBUG] in allocateReg() t_cycle: 2; i: 2 CGRA node: 3; link: 1 duration 4\n",
      "[DEBUG] done reg allocation\n",
      "[DEBUG] occupy link[1]-->[3] (bypass:0) dfgNode: 11 at cycle 2\n",
      "[DEBUG] in shareSameCycle is true: node 0\n",
      "[DEBUG] tryToRoute -- srcDFGNode: 0, srcCGRANode: 3; dstDFGNode: 7, dstCGRANode: 1; backEdge: 1\n",
      "[DEBUG] in shareSameCycle is true: node 7\n",
      "[DEBUG] check route size: 2\n",
      "[DEBUG] reset duration: 3 t_dstCycle: 9 previous: 10 II: 4\n",
      "[DEBUG] in allocateReg() t_cycle: 10; i: 2 CGRA node: 1; link: 0 duration 3\n",
      "[DEBUG] done reg allocation\n",
      "[DEBUG] occupy link[3]-->[1] (bypass:0) dfgNode: 0 at cycle 10\n",
      "[DEBUG] success in schedule()\n",
      "[DEBUG] no available path for DFG node 8 on CGRA node 1 within II 4; path size: 1.\n",
      "[DEBUG] no available path for DFG node 8 on CGRA node 3 within II 4; path size: 2.\n",
      "[DEBUG] schedule dfg node[8] onto fu[0] at cycle 10 within II: 4\n",
      "[DEBUG] setDFGNode 8 onto CGRANode 0 at cycle: 10\n",
      "[DEBUG] in allocateReg() t_cycle: 9; i: 0 CGRA node: 0; link: 3 duration 1\n",
      "[DEBUG] done reg allocation\n",
      "[DEBUG] occupy link[1]-->[0] (bypass:0) dfgNode: 7 at cycle 9\n",
      "[DEBUG] skip predecessor routing -- dfgNode: 7\n",
      "[DEBUG] success in schedule()\n",
      "--------------------------- cycle:0 ---------------------------\n",
      "[     ]   [     ]\n",
      "             ↑ \n",
      "[     ] ← [  9  ]\n",
      "--------------------------- cycle:1 ---------------------------\n",
      "[     ]   [ 10  ]\n",
      "   ⇅         ⇅ \n",
      "[     ] ← [     ]\n",
      "--------------------------- cycle:2 ---------------------------\n",
      "[     ]   [     ]\n",
      "   ↓         ⇅ \n",
      "[     ]   [ 11  ]\n",
      "--------------------------- cycle:3 ---------------------------\n",
      "[     ] ← [  1  ]\n",
      "             ↓ \n",
      "[     ] → [     ]\n",
      "--------------------------- cycle:4 ---------------------------\n",
      "[  2  ]   [     ]\n",
      "             ↑ \n",
      "[     ] ← [  9  ]\n",
      "--------------------------- cycle:5 ---------------------------\n",
      "[  3  ]   [ 10  ]\n",
      "   ⇅         ⇅ \n",
      "[  4  ] ← [     ]\n",
      "--------------------------- cycle:6 ---------------------------\n",
      "[  5  ]   [     ]\n",
      "   ↓         ⇅ \n",
      "[     ]   [ 11  ]\n",
      "--------------------------- cycle:7 ---------------------------\n",
      "[     ] ← [  1  ]\n",
      "             ↓ \n",
      "[  6  ] → [     ]\n",
      "--------------------------- cycle:8 ---------------------------\n",
      "[  2  ]   [     ]\n",
      "             ↑ \n",
      "[     ] ← [  9  ]\n",
      "--------------------------- cycle:9 ---------------------------\n",
      "[  3  ]   [ 10  ]\n",
      "   ⇅         ⇅ \n",
      "[  4  ] ← [  7  ]\n",
      "--------------------------- cycle:10 ---------------------------\n",
      "[  5  ]   [  0  ]\n",
      "   ↓         ⇅ \n",
      "[  8  ]   [ 11  ]\n",
      "--------------------------- cycle:11 ---------------------------\n",
      "[     ] ← [  1  ]\n",
      "             ↓ \n",
      "[  6  ] → [     ]\n",
      "--------------------------- cycle:12 ---------------------------\n",
      "[  2  ]   [     ]\n",
      "             ↑ \n",
      "[     ] ← [  9  ]\n",
      "--------------------------- cycle:13 ---------------------------\n",
      "[  3  ]   [ 10  ]\n",
      "   ⇅         ⇅ \n",
      "[  4  ] ← [  7  ]\n",
      "--------------------------- cycle:14 ---------------------------\n",
      "[  5  ]   [  0  ]\n",
      "   ↓         ⇅ \n",
      "[  8  ]   [ 11  ]\n",
      "--------------------------- cycle:15 ---------------------------\n",
      "[     ] ← [  1  ]\n",
      "             ↓ \n",
      "[  6  ] → [     ]\n",
      "--------------------------- cycle:16 ---------------------------\n",
      "[  2  ]   [     ]\n",
      "             ↑ \n",
      "[     ] ← [  9  ]\n",
      "[Mapping II: 4]\n",
      "==================================\n",
      "[Mapping Success]\n",
      "==================================\n",
      "[DEBUG] inside roi for CGRA node 1...\n",
      "[Output Json]\n",
      "==================================\n"
     ]
    }
   ],
   "source": [
    "\n",
    "\n",
    "# make sure you have the correct location of the mapper in the following line\n",
    "!opt-12 -load ../../CGRA-Mapper/build/src/libmapperPass.so -mapperPass ../results/kernel.bc\n"
   ]
  },
  {
   "cell_type": "markdown",
   "metadata": {
    "collapsed": false
   },
   "source": [
    "## view the dfg"
   ]
  },
  {
   "cell_type": "code",
   "execution_count": 18,
   "metadata": {
    "ExecuteTime": {
     "end_time": "2023-08-02T00:19:57.474046068Z",
     "start_time": "2023-08-02T00:19:57.071617835Z"
    },
    "collapsed": false
   },
   "outputs": [
    {
     "data": {
      "image/png": "[encoded data removed]",
      "text/plain": [
       "<Figure size 432x288 with 1 Axes>"
      ]
     },
     "metadata": {
      "needs_background": "light"
     },
     "output_type": "display_data"
    }
   ],
   "source": [
    "!dot -Tpng ../results/_Z6kernelPfS_S_.dot -o ../results/kernel.png\n",
    "pil_im = Image.open('kernel.png')\n",
    "im_array = np.asarray(pil_im)\n",
    "plt.imshow(im_array)\n",
    "plt.show()"
   ]
  },
  {
   "cell_type": "markdown",
   "metadata": {
    "collapsed": false
   },
   "source": [
    "## Generate the configuration file from the map"
   ]
  },
  {
   "cell_type": "code",
   "execution_count": 19,
   "metadata": {
    "ExecuteTime": {
     "end_time": "2023-08-02T00:19:58.398467896Z",
     "start_time": "2023-08-02T00:19:58.391439375Z"
    },
    "collapsed": false
   },
   "outputs": [],
   "source": [
    "target_json = \"config.json\"\n",
    "script_dir  = os.path.abspath(\"\")\n",
    "file_path   = os.path.join( script_dir,target_json )"
   ]
  },
  {
   "cell_type": "code",
   "execution_count": 20,
   "metadata": {
    "ExecuteTime": {
     "end_time": "2023-08-02T00:19:59.216227073Z",
     "start_time": "2023-08-02T00:19:59.202903544Z"
    },
    "collapsed": false
   },
   "outputs": [],
   "source": [
    "II                = 4 # set the II value from before"
   ]
  },
  {
   "cell_type": "code",
   "execution_count": 36,
   "metadata": {
    "ExecuteTime": {
     "end_time": "2023-08-02T00:19:59.796793092Z",
     "start_time": "2023-08-02T00:19:59.787831625Z"
    },
    "collapsed": false
   },
   "outputs": [],
   "source": [
    "cgra_ctrl         = CGRACtrl( file_path, CtrlType, RouteType, width, height,\n",
    "                                num_fu_in, num_xbar_inports, num_xbar_outports, II)"
   ]
  },
  {
   "cell_type": "code",
   "execution_count": 37,
   "metadata": {
    "ExecuteTime": {
     "end_time": "2023-08-02T00:20:01.689699900Z",
     "start_time": "2023-08-02T00:20:01.682875327Z"
    },
    "collapsed": false
   },
   "outputs": [],
   "source": [
    "src_opt           = cgra_ctrl.get_ctrl()"
   ]
  },
  {
   "cell_type": "code",
   "execution_count": 46,
   "metadata": {},
   "outputs": [
    {
     "data": {
      "text/plain": [
       "4"
      ]
     },
     "execution_count": 46,
     "metadata": {},
     "output_type": "execute_result"
    }
   ],
   "source": [
    "II"
   ]
  },
  {
   "cell_type": "code",
   "execution_count": 38,
   "metadata": {
    "ExecuteTime": {
     "end_time": "2023-08-02T00:20:26.247324964Z",
     "start_time": "2023-08-02T00:20:26.201956602Z"
    },
    "collapsed": false
   },
   "outputs": [
    {
     "data": {
      "text/plain": [
       "[[CGRAConfig_6_4_8_8(Bits6(0x01),Bits1(0x0),[Bits3(0x0), Bits3(0x0), Bits3(0x0), Bits3(0x0)],[Bits4(0x0), Bits4(0x0), Bits4(0x0), Bits4(0x0), Bits4(0x4), Bits4(0x0), Bits4(0x0), Bits4(0x0)],[Bits1(0x0), Bits1(0x0), Bits1(0x0), Bits1(0x0), Bits1(0x0), Bits1(0x0), Bits1(0x0), Bits1(0x0)]),\n",
       "  CGRAConfig_6_4_8_8(Bits6(0x19),Bits1(0x0),[Bits3(0x1), Bits3(0x2), Bits3(0x0), Bits3(0x0)],[Bits4(0x5), Bits4(0x0), Bits4(0x0), Bits4(0x0), Bits4(0x4), Bits4(0x1), Bits4(0x0), Bits4(0x0)],[Bits1(0x0), Bits1(0x0), Bits1(0x0), Bits1(0x0), Bits1(0x0), Bits1(0x0), Bits1(0x0), Bits1(0x0)]),\n",
       "  CGRAConfig_6_4_8_8(Bits6(0x0d),Bits1(0x0),[Bits3(0x1), Bits3(0x2), Bits3(0x0), Bits3(0x0)],[Bits4(0x0), Bits4(0x0), Bits4(0x0), Bits4(0x0), Bits4(0x1), Bits4(0x0), Bits4(0x0), Bits4(0x0)],[Bits1(0x0), Bits1(0x0), Bits1(0x0), Bits1(0x0), Bits1(0x0), Bits1(0x0), Bits1(0x0), Bits1(0x0)]),\n",
       "  CGRAConfig_6_4_8_8(Bits6(0x07),Bits1(0x0),[Bits3(0x1), Bits3(0x2), Bits3(0x0), Bits3(0x0)],[Bits4(0x0), Bits4(0x0), Bits4(0x0), Bits4(0x5), Bits4(0x0), Bits4(0x0), Bits4(0x0), Bits4(0x0)],[Bits1(0x0), Bits1(0x0), Bits1(0x0), Bits1(0x0), Bits1(0x0), Bits1(0x0), Bits1(0x0), Bits1(0x0)])],\n",
       " [CGRAConfig_6_4_8_8(Bits6(0x19),Bits1(0x0),[Bits3(0x1), Bits3(0x2), Bits3(0x0), Bits3(0x0)],[Bits4(0x5), Bits4(0x0), Bits4(0x0), Bits4(0x0), Bits4(0x0), Bits4(0x0), Bits4(0x0), Bits4(0x0)],[Bits1(0x0), Bits1(0x0), Bits1(0x0), Bits1(0x0), Bits1(0x0), Bits1(0x0), Bits1(0x0), Bits1(0x0)]),\n",
       "  CGRAConfig_6_4_8_8(Bits6(0x02),Bits1(0x0),[Bits3(0x1), Bits3(0x2), Bits3(0x0), Bits3(0x0)],[Bits4(0x5), Bits4(0x0), Bits4(0x5), Bits4(0x0), Bits4(0x1), Bits4(0x0), Bits4(0x0), Bits4(0x0)],[Bits1(0x0), Bits1(0x0), Bits1(0x0), Bits1(0x0), Bits1(0x0), Bits1(0x0), Bits1(0x0), Bits1(0x0)]),\n",
       "  CGRAConfig_6_4_8_8(Bits6(0x10),Bits1(0x0),[Bits3(0x1), Bits3(0x2), Bits3(0x0), Bits3(0x0)],[Bits4(0x5), Bits4(0x0), Bits4(0x0), Bits4(0x0), Bits4(0x0), Bits4(0x0), Bits4(0x1), Bits4(0x0)],[Bits1(0x0), Bits1(0x0), Bits1(0x0), Bits1(0x0), Bits1(0x0), Bits1(0x0), Bits1(0x0), Bits1(0x0)]),\n",
       "  CGRAConfig_6_4_8_8(Bits6(0x01),Bits1(0x0),[Bits3(0x0), Bits3(0x0), Bits3(0x0), Bits3(0x0)],[Bits4(0x0), Bits4(0x0), Bits4(0x1), Bits4(0x0), Bits4(0x1), Bits4(0x3), Bits4(0x0), Bits4(0x0)],[Bits1(0x0), Bits1(0x0), Bits1(0x0), Bits1(0x0), Bits1(0x0), Bits1(0x0), Bits1(0x0), Bits1(0x0)])],\n",
       " [CGRAConfig_6_4_8_8(Bits6(0x19),Bits1(0x0),[Bits3(0x1), Bits3(0x2), Bits3(0x0), Bits3(0x0)],[Bits4(0x0), Bits4(0x0), Bits4(0x0), Bits4(0x0), Bits4(0x5), Bits4(0x0), Bits4(0x0), Bits4(0x0)],[Bits1(0x0), Bits1(0x0), Bits1(0x0), Bits1(0x0), Bits1(0x0), Bits1(0x0), Bits1(0x0), Bits1(0x0)]),\n",
       "  CGRAConfig_6_4_8_8(Bits6(0x0c),Bits1(0x0),[Bits3(0x1), Bits3(0x2), Bits3(0x0), Bits3(0x0)],[Bits4(0x0), Bits4(0x5), Bits4(0x0), Bits4(0x0), Bits4(0x2), Bits4(0x0), Bits4(0x0), Bits4(0x0)],[Bits1(0x0), Bits1(0x0), Bits1(0x0), Bits1(0x0), Bits1(0x0), Bits1(0x0), Bits1(0x0), Bits1(0x0)]),\n",
       "  CGRAConfig_6_4_8_8(Bits6(0x0c),Bits1(0x0),[Bits3(0x1), Bits3(0x2), Bits3(0x0), Bits3(0x0)],[Bits4(0x0), Bits4(0x5), Bits4(0x0), Bits4(0x0), Bits4(0x0), Bits4(0x0), Bits4(0x0), Bits4(0x0)],[Bits1(0x0), Bits1(0x0), Bits1(0x0), Bits1(0x0), Bits1(0x0), Bits1(0x0), Bits1(0x0), Bits1(0x0)]),\n",
       "  CGRAConfig_6_4_8_8(Bits6(0x01),Bits1(0x0),[Bits3(0x0), Bits3(0x0), Bits3(0x0), Bits3(0x0)],[Bits4(0x0), Bits4(0x0), Bits4(0x0), Bits4(0x0), Bits4(0x4), Bits4(0x0), Bits4(0x0), Bits4(0x0)],[Bits1(0x0), Bits1(0x0), Bits1(0x0), Bits1(0x0), Bits1(0x0), Bits1(0x0), Bits1(0x0), Bits1(0x0)])],\n",
       " [CGRAConfig_6_4_8_8(Bits6(0x01),Bits1(0x0),[Bits3(0x0), Bits3(0x0), Bits3(0x0), Bits3(0x0)],[Bits4(0x0), Bits4(0x0), Bits4(0x0), Bits4(0x0), Bits4(0x2), Bits4(0x2), Bits4(0x0), Bits4(0x0)],[Bits1(0x0), Bits1(0x0), Bits1(0x0), Bits1(0x0), Bits1(0x0), Bits1(0x0), Bits1(0x0), Bits1(0x0)]),\n",
       "  CGRAConfig_6_4_8_8(Bits6(0x21),Bits1(0x0),[Bits3(0x1), Bits3(0x2), Bits3(0x0), Bits3(0x0)],[Bits4(0x0), Bits4(0x5), Bits4(0x0), Bits4(0x0), Bits4(0x2), Bits4(0x0), Bits4(0x0), Bits4(0x0)],[Bits1(0x0), Bits1(0x0), Bits1(0x0), Bits1(0x0), Bits1(0x0), Bits1(0x0), Bits1(0x0), Bits1(0x0)]),\n",
       "  CGRAConfig_6_4_8_8(Bits6(0x20),Bits1(0x1),[Bits3(0x1), Bits3(0x2), Bits3(0x0), Bits3(0x0)],[Bits4(0x0), Bits4(0x5), Bits4(0x0), Bits4(0x0), Bits4(0x2), Bits4(0x0), Bits4(0x2), Bits4(0x0)],[Bits1(0x0), Bits1(0x1), Bits1(0x0), Bits1(0x0), Bits1(0x0), Bits1(0x0), Bits1(0x0), Bits1(0x0)]),\n",
       "  CGRAConfig_6_4_8_8(Bits6(0x20),Bits1(0x1),[Bits3(0x1), Bits3(0x2), Bits3(0x0), Bits3(0x0)],[Bits4(0x0), Bits4(0x5), Bits4(0x5), Bits4(0x0), Bits4(0x0), Bits4(0x0), Bits4(0x0), Bits4(0x0)],[Bits1(0x0), Bits1(0x0), Bits1(0x0), Bits1(0x0), Bits1(0x0), Bits1(0x0), Bits1(0x0), Bits1(0x0)])]]"
      ]
     },
     "execution_count": 38,
     "metadata": {},
     "output_type": "execute_result"
    }
   ],
   "source": [
    "src_opt"
   ]
  },
  {
   "cell_type": "markdown",
   "metadata": {
    "collapsed": false
   },
   "source": [
    "## create the test harness"
   ]
  },
  {
   "cell_type": "code",
   "execution_count": 24,
   "metadata": {
    "ExecuteTime": {
     "end_time": "2023-08-02T00:37:00.291572453Z",
     "start_time": "2023-08-02T00:37:00.249604949Z"
    },
    "collapsed": false
   },
   "outputs": [],
   "source": [
    "class TestHarness( Component ):\n",
    "\n",
    "  def construct( s, DUT, FunctionUnit, FuList, DataType, PredicateType,\n",
    "                 CtrlType, width, height, ctrl_mem_size, data_mem_size,\n",
    "                 src_opt, ctrl_waddr, tileList, linkList, dataSPM, preload_data = None,\n",
    "                 preload_const = None  ):\n",
    "\n",
    "    s.num_tiles = len(tileList)\n",
    "    AddrType = mk_bits( clog2( ctrl_mem_size ) )\n",
    "\n",
    "    s.src_opt     = [ TestSrcRTL( CtrlType, src_opt[i] )\n",
    "                      for i in range( s.num_tiles ) ]\n",
    "    s.ctrl_waddr  = [ TestSrcRTL( AddrType, ctrl_waddr[i] )\n",
    "                      for i in range( s.num_tiles ) ]\n",
    "\n",
    "    s.dut = DUT( DataType, PredicateType, CtrlType, width, height,\n",
    "                 ctrl_mem_size, data_mem_size, len( src_opt[0] ),\n",
    "                 FunctionUnit, FuList, tileList, linkList, dataSPM )\n",
    "\n",
    "    for i in range( s.num_tiles ):\n",
    "      connect( s.src_opt[i].send,     s.dut.recv_wopt[i]  )\n",
    "      connect( s.ctrl_waddr[i].send,  s.dut.recv_waddr[i] )\n",
    "\n",
    "  def done( s ):\n",
    "    done = True\n",
    "    for i in range( s.num_tiles  ):\n",
    "      if not s.src_opt[i].done():\n",
    "        done = False\n",
    "        break\n",
    "    return done\n",
    "\n",
    "  def line_trace( s ):\n",
    "    return s.dut.line_trace()\n",
    "\n",
    "class Tile:\n",
    "  def __init__( s, dimX, dimY ):\n",
    "    s.disabled = False\n",
    "    s.dimX = dimX\n",
    "    s.dimY = dimY\n",
    "    s.toMem = False\n",
    "    s.fromMem = False\n",
    "    s.invalidOutPorts = set()\n",
    "    s.invalidInPorts = set()\n",
    "    for i in range( PORT_DIRECTION_COUNTS ):\n",
    "      s.invalidOutPorts.add(i)\n",
    "      s.invalidInPorts.add(i)\n",
    "\n",
    "  def getInvalidInPorts(s):\n",
    "    return s.invalidInPorts\n",
    "\n",
    "  def getInvalidOutPorts(s):\n",
    "    return s.invalidOutPorts\n",
    "\n",
    "  def hasToMem(s):\n",
    "    return s.toMem\n",
    "\n",
    "  def hasFromMem(s):\n",
    "    return s.fromMem\n",
    "\n",
    "  def getIndex( s, tileList ):\n",
    "    if s.disabled:\n",
    "      return -1\n",
    "    index = 0\n",
    "    for tile in tileList:\n",
    "      if tile.dimY < s.dimY and not tile.disabled:\n",
    "        index += 1\n",
    "      elif tile.dimY == s.dimY and tile.dimX < s.dimX and not tile.disabled:\n",
    "        index += 1\n",
    "    return index\n",
    "\n",
    "class DataSPM:\n",
    "  def __init__( s, numOfReadPorts, numOfWritePorts ):\n",
    "    s.numOfReadPorts = numOfReadPorts\n",
    "    s.numOfWritePorts = numOfWritePorts\n",
    "\n",
    "  def getNumOfValidReadPorts( s ):\n",
    "    return s.numOfReadPorts\n",
    "\n",
    "  def getNumOfValidWritePorts( s ):\n",
    "    return s.numOfWritePorts\n",
    "\n",
    "class Link:\n",
    "  def __init__( s, srcTile, dstTile, srcPort, dstPort ):\n",
    "    s.srcTile = srcTile\n",
    "    s.dstTile = dstTile\n",
    "    s.srcPort = srcPort\n",
    "    s.dstPort = dstPort\n",
    "    s.disabled = False\n",
    "    s.toMem = False\n",
    "    s.fromMem = False\n",
    "    s.memPort = -1\n",
    "\n",
    "  def getMemReadPort(s):\n",
    "      return s.memPort\n",
    "\n",
    "  def getMemWritePort(s):\n",
    "      return s.memPort\n",
    "\n",
    "  def isToMem(s):\n",
    "    return s.toMem\n",
    "\n",
    "  def isFromMem(s):\n",
    "    return s.fromMem\n",
    "\n",
    "  def validatePorts( s ):\n",
    "    if not s.toMem and not s.fromMem:\n",
    "      s.srcTile.invalidOutPorts.remove(s.srcPort)\n",
    "      s.dstTile.invalidInPorts.remove(s.dstPort)\n",
    "    if s.toMem:\n",
    "      s.srcTile.toMem = True\n",
    "    if s.fromMem:\n",
    "      s.dstTile.fromMem = True\n"
   ]
  },
  {
   "cell_type": "code",
   "execution_count": 30,
   "metadata": {
    "ExecuteTime": {
     "end_time": "2023-08-02T00:37:02.065013241Z",
     "start_time": "2023-08-02T00:37:02.059291398Z"
    },
    "collapsed": false
   },
   "outputs": [],
   "source": [
    "def run_sim( test_harness, max_cycles=10 ):\n",
    "  test_harness.elaborate()\n",
    "  test_harness.dut.verilog_translate_import = True\n",
    "  test_harness.dut.config_verilog_import = VerilatorImportConfigs(vl_Wno_list=['UNSIGNED', 'UNOPTFLAT', 'WIDTH', 'WIDTHCONCAT', 'ALWCOMBORDER'],)\n",
    "                                                                  # vl_trace_filename=\"test\",\n",
    "                                                                  # vl_trace=True)\n",
    "  test_harness = TranslationImportPass()(test_harness)\n",
    "  test_harness.apply( SimulationPass() )\n",
    "  test_harness.sim_reset()\n",
    "\n",
    "  # Run simulation\n",
    "  ncycles = 0\n",
    "  print()\n",
    "  print( \"{}:{}\".format( ncycles, test_harness.line_trace() ))\n",
    "  while not test_harness.done() and ncycles < max_cycles:\n",
    "    test_harness.tick()\n",
    "    ncycles += 1\n",
    "    print( \"{}:{}\".format( ncycles, test_harness.line_trace() ))\n",
    "\n",
    "  # Check timeout\n",
    "  assert ncycles < max_cycles\n",
    "\n",
    "  test_harness.tick()\n",
    "  test_harness.tick()\n",
    "  test_harness.tick()"
   ]
  },
  {
   "cell_type": "code",
   "execution_count": 31,
   "metadata": {
    "ExecuteTime": {
     "end_time": "2023-08-02T00:37:02.889799328Z",
     "start_time": "2023-08-02T00:37:02.873301314Z"
    },
    "collapsed": false
   },
   "outputs": [],
   "source": [
    "tiles = []\n",
    "links = None\n",
    "\n",
    "dataSPM = DataSPM(2, 2)\n",
    "for r in range( 2 ):\n",
    "    tiles.append([])\n",
    "    for c in range( 2 ):\n",
    "        tiles[r].append(Tile(c, r))\n",
    "\n",
    "links = [ Link(None, None, 0, 0) for _ in range(16) ]\n",
    "\n",
    "links[0].srcTile = None\n",
    "links[0].dstTile = tiles[0][0]\n",
    "links[0].srcPort = 0\n",
    "links[0].dstPort = PORT_WEST\n",
    "links[0].fromMem = True\n",
    "links[0].memPort = 0\n",
    "links[0].validatePorts()\n",
    "\n",
    "links[1].srcTile = tiles[0][0]\n",
    "links[1].dstTile = None\n",
    "links[1].srcPort = PORT_WEST\n",
    "links[1].dstPort = 0\n",
    "links[1].toMem = True\n",
    "links[1].memPort = 0\n",
    "links[1].validatePorts()\n",
    "\n",
    "links[2].srcTile = None\n",
    "links[2].dstTile = tiles[1][0]\n",
    "links[2].srcPort = 1\n",
    "links[2].dstPort = PORT_WEST\n",
    "links[2].fromMem = True\n",
    "links[2].memPort = 1\n",
    "links[2].validatePorts()\n",
    "\n",
    "links[3].srcTile = tiles[1][0]\n",
    "links[3].dstTile = None\n",
    "links[3].srcPort = PORT_WEST\n",
    "links[3].dstPort = 1\n",
    "links[3].toMem = True\n",
    "links[3].memPort = 1\n",
    "links[3].validatePorts()\n",
    "\n",
    "links[4].srcTile = tiles[0][0]\n",
    "links[4].dstTile = tiles[0][1]\n",
    "links[4].srcPort = PORT_EAST\n",
    "links[4].dstPort = PORT_WEST\n",
    "links[4].validatePorts()\n",
    "\n",
    "links[5].srcTile = tiles[0][1]\n",
    "links[5].dstTile = tiles[0][0]\n",
    "links[5].srcPort = PORT_WEST\n",
    "links[5].dstPort = PORT_EAST\n",
    "links[5].validatePorts()\n",
    "\n",
    "links[6].srcTile = tiles[1][0]\n",
    "links[6].dstTile = tiles[1][1]\n",
    "links[6].srcPort = PORT_EAST\n",
    "links[6].dstPort = PORT_WEST\n",
    "links[6].validatePorts()\n",
    "\n",
    "links[7].srcTile = tiles[1][1]\n",
    "links[7].dstTile = tiles[1][0]\n",
    "links[7].srcPort = PORT_WEST\n",
    "links[7].dstPort = PORT_EAST\n",
    "links[7].validatePorts()\n",
    "\n",
    "links[8].srcTile = tiles[0][0]\n",
    "links[8].dstTile = tiles[1][0]\n",
    "links[8].srcPort = PORT_NORTH\n",
    "links[8].dstPort = PORT_SOUTH\n",
    "links[8].validatePorts()\n",
    "\n",
    "links[9].srcTile = tiles[1][0]\n",
    "links[9].dstTile = tiles[0][0]\n",
    "links[9].srcPort = PORT_SOUTH\n",
    "links[9].dstPort = PORT_NORTH\n",
    "links[9].validatePorts()\n",
    "\n",
    "links[10].srcTile = tiles[0][1]\n",
    "links[10].dstTile = tiles[1][1]\n",
    "links[10].srcPort = PORT_NORTH\n",
    "links[10].dstPort = PORT_SOUTH\n",
    "links[10].validatePorts()\n",
    "\n",
    "links[11].srcTile = tiles[1][1]\n",
    "links[11].dstTile = tiles[0][1]\n",
    "links[11].srcPort = PORT_SOUTH\n",
    "links[11].dstPort = PORT_NORTH\n",
    "links[11].validatePorts()\n",
    "\n",
    "links[12].srcTile = tiles[0][0]\n",
    "links[12].dstTile = tiles[1][1]\n",
    "links[12].srcPort = PORT_NORTHEAST\n",
    "links[12].dstPort = PORT_SOUTHWEST\n",
    "links[12].validatePorts()\n",
    "\n",
    "links[13].srcTile = tiles[1][1]\n",
    "links[13].dstTile = tiles[0][0]\n",
    "links[13].srcPort = PORT_SOUTHWEST\n",
    "links[13].dstPort = PORT_NORTHEAST\n",
    "links[13].validatePorts()\n",
    "\n",
    "links[14].srcTile = tiles[0][1]\n",
    "links[14].dstTile = tiles[1][0]\n",
    "links[14].srcPort = PORT_NORTHWEST\n",
    "links[14].dstPort = PORT_SOUTHEAST\n",
    "links[14].validatePorts()\n",
    "\n",
    "links[15].srcTile = tiles[1][0]\n",
    "links[15].dstTile = tiles[0][1]\n",
    "links[15].srcPort = PORT_SOUTHEAST\n",
    "links[15].dstPort = PORT_NORTHWEST\n",
    "links[15].validatePorts()\n",
    "\n",
    "def handleReshape( t_tiles ):\n",
    "    tiles = []\n",
    "    for row in t_tiles:\n",
    "        for t in row:\n",
    "          tiles.append(t)\n",
    "    return tiles\n",
    "\n",
    "tiles = handleReshape(tiles)"
   ]
  },
  {
   "cell_type": "markdown",
   "metadata": {
    "collapsed": false
   },
   "source": [
    "## Create the data"
   ]
  },
  {
   "cell_type": "code",
   "execution_count": 32,
   "metadata": {
    "ExecuteTime": {
     "end_time": "2023-08-02T00:37:03.345372309Z",
     "start_time": "2023-08-02T00:37:03.340224073Z"
    },
    "collapsed": false
   },
   "outputs": [],
   "source": [
    "ctrl_waddr        = [[ AddrType( 0 ), AddrType( 1 ), AddrType( 2 ), AddrType( 3 ),\n",
    "                         AddrType( 4 ), AddrType( 5 ) ] for _ in range( num_tiles ) ]\n",
    "preload_data      = [ DataType( 5, 1 ) ] * data_mem_size\n",
    "preload_const     = []\n",
    "for _ in range( num_tiles ):\n",
    "    preload_const.append([])\n",
    "\n",
    "preload_const[0].append( DataType( 0, 1) )\n",
    "preload_const[1].append( DataType( 0, 1) )\n",
    "preload_const[2].append( DataType( 0, 1) )\n",
    "preload_const[3].append( DataType( 0, 1) )\n"
   ]
  },
  {
   "cell_type": "markdown",
   "metadata": {
    "collapsed": false
   },
   "source": [
    "## Run the simulation"
   ]
  },
  {
   "cell_type": "code",
   "execution_count": 33,
   "metadata": {},
   "outputs": [],
   "source": [
    "!rm -rf ../results/verilog\n",
    "!mkdir -p ../results/verilog\n",
    "\n",
    "# Change to your desired directory\n",
    "os.chdir(\"../results/verilog\")"
   ]
  },
  {
   "cell_type": "code",
   "execution_count": 34,
   "metadata": {
    "ExecuteTime": {
     "end_time": "2023-08-02T00:37:21.827510316Z",
     "start_time": "2023-08-02T00:37:04.772343941Z"
    },
    "collapsed": false
   },
   "outputs": [],
   "source": [
    "th = TestHarness( DUT, FunctionUnit, FuList, DataType, PredicateType,\n",
    "                    CtrlType, width, height, ctrl_mem_size, data_mem_size,\n",
    "                    src_opt, ctrl_waddr, tiles, links, dataSPM, preload_data, preload_const  )\n",
    "run_sim(  th )"
   ]
  },
  {
   "cell_type": "code",
   "execution_count": 35,
   "metadata": {},
   "outputs": [],
   "source": [
    "# When finished, change back to the original directory\n",
    "os.chdir(orig_dir)"
   ]
  }
 ],
 "metadata": {
  "kernelspec": {
   "display_name": "Python 3",
   "language": "python",
   "name": "python3"
  },
  "language_info": {
   "codemirror_mode": {
    "name": "ipython",
    "version": 3
   },
   "file_extension": ".py",
   "mimetype": "text/x-python",
   "name": "python",
   "nbconvert_exporter": "python",
   "pygments_lexer": "ipython3",
   "version": "3.7.12"
  }
 },
 "nbformat": 4,
 "nbformat_minor": 0
}
